{
 "cells": [
  {
   "cell_type": "markdown",
   "metadata": {},
   "source": [
    "# Merge PDF Script"
   ]
  },
  {
   "cell_type": "markdown",
   "metadata": {},
   "source": [
    "Simple script for Mac users to merge PDFs, useful for students who are taking online lessons/exams. All notes are searchables within 1 PDF.\n",
    "- Trisha CN"
   ]
  },
  {
   "cell_type": "markdown",
   "metadata": {},
   "source": [
    "## 1. Import libraries"
   ]
  },
  {
   "cell_type": "code",
   "execution_count": 5,
   "metadata": {},
   "outputs": [],
   "source": [
    "import os\n",
    "import sys"
   ]
  },
  {
   "cell_type": "code",
   "execution_count": 6,
   "metadata": {},
   "outputs": [
    {
     "name": "stdout",
     "output_type": "stream",
     "text": [
      "Collecting PyPDF2\n",
      "  Downloading PyPDF2-1.26.0.tar.gz (77 kB)\n",
      "\u001b[K     |████████████████████████████████| 77 kB 2.9 MB/s eta 0:00:01\n",
      "\u001b[?25hBuilding wheels for collected packages: PyPDF2\n",
      "  Building wheel for PyPDF2 (setup.py) ... \u001b[?25ldone\n",
      "\u001b[?25h  Created wheel for PyPDF2: filename=PyPDF2-1.26.0-py3-none-any.whl size=61084 sha256=555468ae7567bbb824063f788f8927a0cd5e7207162aea7e6d8ab9ac2268f518\n",
      "  Stored in directory: /Users/trishanatanael/Library/Caches/pip/wheels/80/1a/24/648467ade3a77ed20f35cfd2badd32134e96dd25ca811e64b3\n",
      "Successfully built PyPDF2\n",
      "Installing collected packages: PyPDF2\n",
      "Successfully installed PyPDF2-1.26.0\n"
     ]
    }
   ],
   "source": [
    "!{sys.executable} -m pip install PyPDF2"
   ]
  },
  {
   "cell_type": "code",
   "execution_count": 7,
   "metadata": {},
   "outputs": [],
   "source": [
    "from PyPDF2 import PdfFileMerger"
   ]
  },
  {
   "cell_type": "markdown",
   "metadata": {},
   "source": [
    "## 2. Get file location"
   ]
  },
  {
   "cell_type": "code",
   "execution_count": 59,
   "metadata": {},
   "outputs": [
    {
     "data": {
      "text/plain": [
       "'/Users/trishanatanael/OneDrive/Courses/NUS-ISS/MTech-EBAC/B01_Statistics Bootcamp/Day1/Lecture Material'"
      ]
     },
     "execution_count": 59,
     "metadata": {},
     "output_type": "execute_result"
    }
   ],
   "source": [
    "pwd"
   ]
  },
  {
   "cell_type": "markdown",
   "metadata": {},
   "source": [
    "## 3. Lists all available files"
   ]
  },
  {
   "cell_type": "code",
   "execution_count": null,
   "metadata": {},
   "outputs": [],
   "source": [
    "ll"
   ]
  },
  {
   "cell_type": "markdown",
   "metadata": {},
   "source": [
    "## 4. Environment Setup in #2"
   ]
  },
  {
   "cell_type": "code",
   "execution_count": 61,
   "metadata": {},
   "outputs": [
    {
     "name": "stdout",
     "output_type": "stream",
     "text": [
      "/Users/trishanatanael/OneDrive/Courses/NUS-ISS/MTech-EBAC/B01_Statistics\\ Bootcamp/Day1/Lecture\\ Material\n"
     ]
    }
   ],
   "source": [
    "#copy the path from #2\n",
    "path = os.getcwd()\n",
    "nPath = path.replace(' ', '\\\\ ')\n",
    "print(nPath)"
   ]
  },
  {
   "cell_type": "markdown",
   "metadata": {},
   "source": [
    "## 5. Merge PDFs found in #3"
   ]
  },
  {
   "cell_type": "code",
   "execution_count": 62,
   "metadata": {},
   "outputs": [],
   "source": [
    "pdfs = ['0.pdf', \n",
    "        'S-SB Day-1_Part-1.pdf'\n",
    "       ]\n",
    "\n",
    "merger = PdfFileMerger()\n",
    "\n",
    "for pdf in pdfs:\n",
    "    merger.append(pdf)\n",
    "\n",
    "merger.write(\"GC-BAP-LectureNotes-1.pdf\")\n",
    "merger.close()"
   ]
  },
  {
   "cell_type": "markdown",
   "metadata": {},
   "source": [
    "## 6. Run ll again to check GC-BAP-LectureNotes-1.pdf is created in this folder. "
   ]
  },
  {
   "cell_type": "code",
   "execution_count": 48,
   "metadata": {},
   "outputs": [
    {
     "name": "stdout",
     "output_type": "stream",
     "text": [
      "total 96168\r\n",
      "-rwxrwxrwx@ 1 trishanatanael  staff   1678663 Sep  1  2020 \u001b[31m0.pdf\u001b[m\u001b[m*\r\n",
      "-rw-r--r--  1 trishanatanael  staff  10969451 May  2 18:40 GC-BAP-LectureNotes.pdf\r\n",
      "-rwxrwxrwx@ 1 trishanatanael  staff   1586499 Aug 31  2020 \u001b[31mS-SB Day-1_Part-1.pdf\u001b[m\u001b[m*\r\n",
      "-rwxrwxrwx@ 1 trishanatanael  staff   7517221 Aug 31  2020 \u001b[31mS-SB Day-1_Part-2_updated.pdf\u001b[m\u001b[m*\r\n",
      "-rwxrwxrwx@ 1 trishanatanael  staff   1419432 Aug 31  2020 \u001b[31mS-SB Day-1_Part-3.pdf\u001b[m\u001b[m*\r\n",
      "-rwxrwxrwx@ 1 trishanatanael  staff   1285083 Aug 31  2020 \u001b[31mS-SB Day-1_Part-4.pdf\u001b[m\u001b[m*\r\n",
      "-rwxrwxrwx@ 1 trishanatanael  staff  24139580 Aug 31  2020 \u001b[31mdata.zip\u001b[m\u001b[m*\r\n"
     ]
    }
   ],
   "source": [
    "ll"
   ]
  },
  {
   "cell_type": "markdown",
   "metadata": {},
   "source": [
    "# - The End"
   ]
  }
 ],
 "metadata": {
  "kernelspec": {
   "display_name": "Python 3",
   "language": "python",
   "name": "python3"
  },
  "language_info": {
   "codemirror_mode": {
    "name": "ipython",
    "version": 3
   },
   "file_extension": ".py",
   "mimetype": "text/x-python",
   "name": "python",
   "nbconvert_exporter": "python",
   "pygments_lexer": "ipython3",
   "version": "3.7.6"
  }
 },
 "nbformat": 4,
 "nbformat_minor": 4
}
